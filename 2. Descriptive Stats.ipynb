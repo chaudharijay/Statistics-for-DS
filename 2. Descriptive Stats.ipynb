{
 "cells": [
  {
   "cell_type": "markdown",
   "metadata": {},
   "source": [
    "### 2.1 Three Popular data displays"
   ]
  },
  {
   "cell_type": "markdown",
   "metadata": {},
   "source": [
    "#### Basic"
   ]
  },
  {
   "cell_type": "markdown",
   "metadata": {},
   "source": [
    "#### 1. Describe one difference between a frequency histogram and a relative frequency histogram.\n",
    "\n",
    "- Frequency Histogram = The vertical axis represents the absolute frequency of each data interval, shows the exact count of the data points within each interval.\n",
    "\n",
    "- Relative Frequency Histogram = The vertical axis represents the relative frequency of each data interval, often expressed as a percentage or proportion.\n",
    "\n",
    "#### 2. Describe one advantage of a stem and leaf diagram over a frequency histogram.\n",
    "\n",
    " -  The definitions of stems and leaves are flexible in practice. The general purpose of a stem and leaf diagram is to provide a quick\n",
    " display of how the data are distributed across the range of their values."
   ]
  },
  {
   "cell_type": "markdown",
   "metadata": {},
   "source": [
    "### 2.2 Measures of Central Location "
   ]
  },
  {
   "cell_type": "markdown",
   "metadata": {},
   "source": [
    "Basic"
   ]
  },
  {
   "cell_type": "markdown",
   "metadata": {},
   "source": [
    "### 1. For the sample data set {1,2,6}  find\n",
    "\n",
    " 1. ∑x = 1+2+6 = 9\n",
    " 2. ∑x^2 = 1+4+36 = 41 \n",
    " 3. ∑(x−3) = -2 - 1 + 3 = 0\n",
    " 4. ∑(x−3)^2 = 4 + 1 + 9 = 14"
   ]
  },
  {
   "cell_type": "markdown",
   "metadata": {},
   "source": [
    "### 2. For the sample data set {-1,0,1,4}  find\n",
    "\n",
    " 1. ∑x = -1+0+1+4 = 4\n",
    " 2. ∑x^2 = 1+0+1+16 = 18 \n",
    " 3. ∑(x−1) = -2-1+0+3 = 0\n",
    " 4. ∑(x−1)^2 = 4 + 1 + 0 + 9 = 14"
   ]
  },
  {
   "cell_type": "markdown",
   "metadata": {},
   "source": [
    "### 3. Find the mean, the median, and the mode for the sample\n",
    "\n",
    "1,2,3,4,\n",
    "\n",
    "3,3,4,4\n",
    "\n",
    "2,1,2,7\n",
    "\n",
    "-1,0,1,4,1,1"
   ]
  },
  {
   "cell_type": "code",
   "execution_count": 10,
   "metadata": {},
   "outputs": [
    {
     "name": "stdout",
     "output_type": "stream",
     "text": [
      "Means is:  2.5\n",
      "Means is:  2.5\n",
      "Mode is:  ModeResult(mode=1, count=1)\n",
      "Means is:  3.5\n",
      "Means is:  3.5\n",
      "Mode is:  ModeResult(mode=3, count=2)\n",
      "Means is:  3.0\n",
      "Means is:  2.0\n",
      "Mode is:  ModeResult(mode=2, count=2)\n",
      "Means is:  1.0\n",
      "Means is:  1.0\n",
      "Mode is:  ModeResult(mode=1, count=3)\n",
      "Means is:  146.9\n",
      "Means is:  147.5\n",
      "Mode is:  ModeResult(mode=132, count=1)\n"
     ]
    }
   ],
   "source": [
    "import numpy as np\n",
    "from scipy import stats\n",
    "\n",
    "list1 = [1,2,3,4]\n",
    "list2 = [3,3,4,4]\n",
    "list3 = [2,1,2,7]\n",
    "list4 = [-1,0,1,4,1,1]\n",
    "list5  = [132,162,133,145,148,139,147,160,150,153]\n",
    "\n",
    "def central(list):\n",
    "    print(\"Means is: \",np.mean(list))\n",
    "    print(\"Means is: \",np.median(list))\n",
    "    print(\"Mode is: \",stats.mode(list))\n",
    "    \n",
    "\n",
    "central(list1)\n",
    "central(list2)\n",
    "central(list3)\n",
    "central(list4)\n",
    "central(list5)\n"
   ]
  },
  {
   "cell_type": "markdown",
   "metadata": {},
   "source": [
    "### 3. Measures of Variablility "
   ]
  },
  {
   "cell_type": "markdown",
   "metadata": {},
   "source": [
    "#### Find Range, the variance and std of following sample."
   ]
  },
  {
   "cell_type": "code",
   "execution_count": 14,
   "metadata": {},
   "outputs": [
    {
     "name": "stdout",
     "output_type": "stream",
     "text": [
      "Std is: 1.118033988749895\n",
      "Variance is: 1.25\n",
      "Std is: 0.5\n",
      "Variance is: 0.25\n",
      "Std is: 2.345207879911715\n",
      "Variance is: 5.5\n",
      "Std is: 1.5275252316519468\n",
      "Variance is: 2.3333333333333335\n",
      "Std is: 9.637945839233586\n",
      "Variance is: 92.89\n"
     ]
    }
   ],
   "source": [
    "def variablity(list):\n",
    "    print(\"Std is:\",np.std(list))\n",
    "    print(\"Variance is:\",np.var(list))\n",
    "\n",
    "variablity(list1)\n",
    "variablity(list2)\n",
    "variablity(list3)\n",
    "variablity(list4)\n",
    "variablity(list5)"
   ]
  }
 ],
 "metadata": {
  "kernelspec": {
   "display_name": "Python 3",
   "language": "python",
   "name": "python3"
  },
  "language_info": {
   "codemirror_mode": {
    "name": "ipython",
    "version": 3
   },
   "file_extension": ".py",
   "mimetype": "text/x-python",
   "name": "python",
   "nbconvert_exporter": "python",
   "pygments_lexer": "ipython3",
   "version": "3.11.0"
  }
 },
 "nbformat": 4,
 "nbformat_minor": 2
}
