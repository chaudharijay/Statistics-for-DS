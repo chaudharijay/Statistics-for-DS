{
 "cells": [
  {
   "cell_type": "markdown",
   "metadata": {},
   "source": [
    "## Inferential Statistics"
   ]
  },
  {
   "cell_type": "markdown",
   "metadata": {},
   "source": [
    "### Common Techniques - \n",
    "\n",
    "#### **Hypothesis testing** - \n",
    "#### **Confidence Interval** - \n",
    "#### **Regression Analysis** - \n",
    "#### **Correlation** - "
   ]
  }
 ],
 "metadata": {
  "language_info": {
   "name": "python"
  }
 },
 "nbformat": 4,
 "nbformat_minor": 2
}
