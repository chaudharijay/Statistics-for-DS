{
 "cells": [
  {
   "cell_type": "markdown",
   "metadata": {},
   "source": [
    "Understanding When to Use t-Test vs Z-Test for Confidence Intervals:\n",
    "\n",
    "***Z-Test***: \n",
    "Use when the population standard deviation (𝜎) is known and the sample size is large (n ≥ 30).\n",
    "\n",
    "***t-Test***:\n",
    "Use when the population standard deviation (𝜎) is unknown and the sample size is small (n < 30). The t-distribution accounts for the added uncertainty in estimating the population standard deviation."
   ]
  },
  {
   "cell_type": "markdown",
   "metadata": {},
   "source": [
    "**z-test steps**:\n",
    "\n",
    "1. given data\n",
    "sample mean\n",
    "population standard deviation\n",
    "sample size\n",
    "confidence level\n",
    "\n",
    "2. find the z-value for given confidence level\n",
    "get from z-table or standard norma distribution to find z-value\n",
    "90% = 1.645\n",
    "95% = 1.96\n",
    "99% = 2.576\n",
    "\n",
    "3. calculate standard error \n",
    "SE = σ / sqrt(n)\n",
    "\n",
    "4. margin of error \n",
    "ME = z * SE\n",
    "\n",
    "5. calculate confidence \n",
    "upper bound  = xbar - ME\n",
    "lower bound  = xbar + ME\n"
   ]
  },
  {
   "cell_type": "markdown",
   "metadata": {},
   "source": [
    "**t-test steps** :\n",
    "1. given data\n",
    "sample mean,\n",
    "sample standard deviation,\n",
    "sample size,\n",
    "confidence level\n",
    "\n",
    "2. find the t-value for given confidence level\n",
    "use t-distribution table based on degrees of freedom(df=n-1),\n",
    "t * alpha/2\n",
    "\n",
    "3. calculate the standard error \n",
    "Se = s/np.sqrt(n)\n",
    "\n",
    "4. margin of error\n",
    "ME = t*SE\n",
    "\n",
    "5. confidence interval\n",
    "CI = sample mean +/- ME"
   ]
  },
  {
   "cell_type": "markdown",
   "metadata": {},
   "source": [
    "confidence interval"
   ]
  },
  {
   "cell_type": "markdown",
   "metadata": {},
   "source": [
    "1. A random sample of 100 light bulbs is taken from a large shipment. The sample mean lifespan is found to be 1,500 hours with a standard deviation of 100 hours. Construct a 95% confidence interval for the population mean lifespan of all the light bulbs in the shipment."
   ]
  },
  {
   "cell_type": "code",
   "execution_count": 6,
   "metadata": {},
   "outputs": [
    {
     "data": {
      "text/plain": [
       "(1480.1578304849131, 1519.8421695150869)"
      ]
     },
     "execution_count": 6,
     "metadata": {},
     "output_type": "execute_result"
    }
   ],
   "source": [
    "import scipy.stats as stats\n",
    "import math\n",
    "\n",
    "n = 100\n",
    "sample_mean = 1500\n",
    "sample_std = 100\n",
    "confidence = 0.95\n",
    "df = n-1\n",
    "alpha = 0.05\n",
    "\n",
    "# use t-test when sample<30 and unknown population std deviation\n",
    "# use z-test when sample>30 and known population std deviation\n",
    "\n",
    "# here we use t-test\n",
    "confidence_interval = stats.t.interval(1-alpha, df, loc = sample_mean, scale=sample_std/math.sqrt(n))\n",
    "confidence_interval\n",
    "\n",
    "\n",
    "\n",
    "\n"
   ]
  },
  {
   "cell_type": "markdown",
   "metadata": {},
   "source": [
    "2. A survey of 500 adults found that 300 of them approve of the president's job performance. Construct a 90% confidence interval for the population proportion of adults who approve of the president's job performance."
   ]
  },
  {
   "cell_type": "code",
   "execution_count": 19,
   "metadata": {},
   "outputs": [
    {
     "data": {
      "text/plain": [
       "(0.5534723737979251, 0.6465276262020748)"
      ]
     },
     "execution_count": 19,
     "metadata": {},
     "output_type": "execute_result"
    }
   ],
   "source": [
    "import numpy as np\n",
    "# 1. given data\n",
    "\n",
    "n = 500 #population n\n",
    "x = 300 #sample n\n",
    "\n",
    "# 2. calculate sample proportion \n",
    "p = x / n #sample proportion\n",
    "p\n",
    "\n",
    "# 3. z-critical value for 90% confidene level \n",
    "z = 1.645 #z-critical value for 90% confidence level\n",
    "\n",
    "# 4. calculate the standard error (SE)\n",
    "SE = np.sqrt(p*(1-p)/x) #standard error\n",
    "SE\n",
    "\n",
    "# 5. Calculate margin of error (ME)\n",
    "ME = 1.645 * SE\n",
    "ME\n",
    "\n",
    "# 6. confidence interval\n",
    "CI_lower = p-ME\n",
    "CI_upper = p+ME\n",
    "\n",
    "CI_lower, CI_upper\n",
    "\n"
   ]
  },
  {
   "cell_type": "code",
   "execution_count": 28,
   "metadata": {},
   "outputs": [
    {
     "name": "stdout",
     "output_type": "stream",
     "text": [
      "(0.5639630625889797, 0.6360369374110203)\n"
     ]
    }
   ],
   "source": [
    "from statsmodels.stats.proportion import proportion_confint\n",
    "\n",
    "#using predefined function\n",
    "x=300\n",
    "n=500\n",
    "\n",
    "confidence_interval = proportion_confint(count=x, nobs=n, alpha=0.10, method='normal')\n",
    "\n",
    "print(confidence_interval)\n",
    "\n",
    "# count = number of successes (300 approvals)\n",
    "# nobs = total sample size (500)\n",
    "# alpha = significance level (0.10) alpha = 1-0.90 = 0.10\n",
    "# method = 'normal' uses normal approximation (z-distribution)"
   ]
  },
  {
   "cell_type": "markdown",
   "metadata": {},
   "source": [
    "3. Two different brands of batteries are tested. A random sample of 25 batteries from Brand A has a mean lifespan of 20 hours with a standard deviation of 2 hours. A random sample of 30 batteries from Brand B has a mean lifespan of 22 hours with a standard deviation of 3 hours. Construct a 99% confidence interval for the difference in the population mean lifespans of the two brands of batteries."
   ]
  },
  {
   "cell_type": "code",
   "execution_count": 42,
   "metadata": {},
   "outputs": [
    {
     "name": "stdout",
     "output_type": "stream",
     "text": [
      "99% confidence interval for the difference in population means: (-6.841658633469452, 2.841658633469452)\n"
     ]
    }
   ],
   "source": [
    "import scipy.stats as stats\n",
    "\n",
    "# Sample sizes\n",
    "n1 = 25\n",
    "n2 = 30\n",
    "\n",
    "# Sample means\n",
    "x1_bar = 20\n",
    "x2_bar = 22\n",
    "\n",
    "# Sample standard deviations\n",
    "s1 = 2\n",
    "s2 = 3\n",
    "\n",
    "# Confidence level\n",
    "alpha = 0.01\n",
    "\n",
    "# Degrees of freedom\n",
    "df = n1 + n2 - 2\n",
    "\n",
    "# Calculate pooled standard error\n",
    "se = stats.t.ppf(1 - alpha/2, df) * stats.t.ppf(1 - alpha/2, df) * ((s1**2 / n1) + (s2**2 / n2))**0.5\n",
    "\n",
    "# Calculate margin of error\n",
    "margin_of_error = se\n",
    "\n",
    "# Construct confidence interval\n",
    "lower_bound = (x1_bar - x2_bar) - margin_of_error\n",
    "upper_bound = (x1_bar - x2_bar) + margin_of_error\n",
    "\n",
    "print(\"99% confidence interval for the difference in population means:\", (lower_bound, upper_bound))\n"
   ]
  },
  {
   "cell_type": "markdown",
   "metadata": {},
   "source": [
    "A random sample of 100 students is taken from a large university. The sample mean GPA is 3.2 with a standard deviation of 0.5. Construct a 95% confidence interval for the population mean GPA."
   ]
  },
  {
   "cell_type": "code",
   "execution_count": 7,
   "metadata": {},
   "outputs": [
    {
     "data": {
      "text/plain": [
       "(np.float64(3.100789152424566), np.float64(3.2992108475754343))"
      ]
     },
     "execution_count": 7,
     "metadata": {},
     "output_type": "execute_result"
    }
   ],
   "source": [
    "import scipy.stats as stats\n",
    "import math \n",
    "\n",
    "n = 100\n",
    "sample_mean = 3.2\n",
    "sample_std = 0.5\n",
    "confidence = 0.95\n",
    "alpha = 0.05\n",
    "df = n-1\n",
    "\n",
    "from statsmodels.stats.proportion import proportion_confint\n",
    "\n",
    "confidence_interval = stats.t.interval(1-alpha, df, loc=sample_mean, scale=sample_std/math.sqrt(n))\n",
    "confidence_interval\n",
    "\n"
   ]
  },
  {
   "cell_type": "markdown",
   "metadata": {},
   "source": [
    "A survey of 500 people finds that 300 of them prefer brand A. Construct a 90% confidence interval for the population proportion preferring brand A."
   ]
  },
  {
   "cell_type": "code",
   "execution_count": 9,
   "metadata": {},
   "outputs": [
    {
     "data": {
      "text/plain": [
       "(0.5639630625889797, 0.6360369374110203)"
      ]
     },
     "execution_count": 9,
     "metadata": {},
     "output_type": "execute_result"
    }
   ],
   "source": [
    "from statsmodels.stats.proportion import proportion_confint\n",
    "\n",
    "n = 500\n",
    "x= 300\n",
    "\n",
    "confidence_interval = proportion_confint(count=x, nobs=n, alpha=0.10, method='normal')\n",
    "confidence_interval\n"
   ]
  },
  {
   "cell_type": "markdown",
   "metadata": {},
   "source": [
    "Two groups of students are given different teaching methods. Group A has 25 students with a sample mean of 85 and a sample standard deviation of 5. Group B has 30 students with a sample mean of 82 and a sample standard deviation of 6. Construct a 99% confidence interval for the difference between the population means."
   ]
  },
  {
   "cell_type": "code",
   "execution_count": 19,
   "metadata": {},
   "outputs": [
    {
     "name": "stdout",
     "output_type": "stream",
     "text": [
      "-0.8267584193413624 6.826758419341362\n"
     ]
    }
   ],
   "source": [
    "n1 = 25\n",
    "n1_mean = 85\n",
    "n1_std = 5\n",
    "\n",
    "n2 = 30\n",
    "n2_mean = 82\n",
    "n2_std = 6\n",
    "\n",
    "alpha = 0.01\n",
    "\n",
    "df = n1+n2-2\n",
    "critical_value = 2.58\n",
    "\n",
    "se = math.sqrt((n1_std**2/n1) + (n2_std**2/n2))\n",
    "\n",
    "margin_of_error = se * critical_value\n",
    "\n",
    "lower_bound = (n1_mean - n2_mean) - margin_of_error\n",
    "upper_bound = (n1_mean - n2_mean) + margin_of_error\n",
    "\n",
    "print(lower_bound, upper_bound)\n"
   ]
  },
  {
   "cell_type": "code",
   "execution_count": null,
   "metadata": {},
   "outputs": [],
   "source": []
  }
 ],
 "metadata": {
  "kernelspec": {
   "display_name": "Python 3",
   "language": "python",
   "name": "python3"
  },
  "language_info": {
   "codemirror_mode": {
    "name": "ipython",
    "version": 3
   },
   "file_extension": ".py",
   "mimetype": "text/x-python",
   "name": "python",
   "nbconvert_exporter": "python",
   "pygments_lexer": "ipython3",
   "version": "3.11.0"
  }
 },
 "nbformat": 4,
 "nbformat_minor": 2
}
