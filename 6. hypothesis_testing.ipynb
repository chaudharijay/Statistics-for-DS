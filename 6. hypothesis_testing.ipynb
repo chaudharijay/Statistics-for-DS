{
 "cells": [
  {
   "cell_type": "markdown",
   "metadata": {},
   "source": [
    "1. Define null and alternare hypothesis.\n",
    "\n",
    "2. Identify the test statistics to be used for tesing the validity of the null hypothesis, for example z-test or t-test.\n",
    "\n",
    "2.1 if (>, <) then 1-tailed test, \n",
    "\n",
    "2.2 if (=, !=) then 2-tailes test,  t/z value * 2\n",
    "\n",
    "3. decide the significance value (alpha). typical value used for alpha is 0.05.\n",
    "\n",
    "4. Calculate the p-value, which is the conditional probability of observing the test statistics value when the null hypothesis is true.\n",
    "\n",
    "    we will use the function provided in scipy.stats module for calculating the p-value.\n",
    "\n",
    "5. Take the decision to reject or retain the null hypothesis based on the p-value and the significance value alpha."
   ]
  },
  {
   "cell_type": "markdown",
   "metadata": {},
   "source": [
    "when comparison between means is present we use hypothesis testing"
   ]
  },
  {
   "cell_type": "markdown",
   "metadata": {},
   "source": [
    "1. A company claims that their new light bulb lasts an average of 10,000 hours. A random sample of 50 bulbs is tested, and the sample mean is found to be 9,800 hours with a standard deviation of 500 hours. Test the company's claim at a 5% significance level."
   ]
  },
  {
   "cell_type": "code",
   "execution_count": 20,
   "metadata": {},
   "outputs": [],
   "source": [
    "#null : average life of bulb is 10000\n",
    "#alternative : life is not 10000"
   ]
  },
  {
   "cell_type": "code",
   "execution_count": 25,
   "metadata": {},
   "outputs": [
    {
     "data": {
      "text/plain": [
       "np.float64(0.00675854095276506)"
      ]
     },
     "execution_count": 25,
     "metadata": {},
     "output_type": "execute_result"
    }
   ],
   "source": [
    "import math\n",
    "from scipy import stats\n",
    "xbar = 9800 #sample mean\n",
    "n = 50 #sample size\n",
    "s = 500 #sample std\n",
    "\n",
    "meu = 10000 #population mean\n",
    "\n",
    "\n",
    "#we use t-test since we dont know pop std\n",
    "\n",
    "t_value = (xbar - meu)/(s / math.sqrt(n))\n",
    "t_value\n",
    "\n",
    "#calculate the p-value now we use cfd function\n",
    "alpha = 0.05\n",
    "\n",
    "p = stats.t.cdf(t_value, df = 49) * 2 #since two tailed test\n",
    "p\n",
    "\n",
    "# p > alpha \n",
    "# accept the null hypothesis\n",
    "\n",
    " \n",
    "\n",
    "\n",
    "\n",
    "\n",
    "\n",
    "\n"
   ]
  },
  {
   "cell_type": "code",
   "execution_count": 24,
   "metadata": {},
   "outputs": [
    {
     "name": "stdout",
     "output_type": "stream",
     "text": [
      "t-score: -2.82842712474619\n",
      "p-value: 0.00675854095276506\n",
      "Reject the null hypothesis. There is sufficient evidence to conclude that the average lifespan is not 10,000 hours.\n"
     ]
    }
   ],
   "source": [
    "import numpy as np\n",
    "from scipy import stats\n",
    "\n",
    "# Given data\n",
    "sample_mean = 9800\n",
    "sample_std = 500\n",
    "sample_size = 50\n",
    "population_mean = 10000\n",
    "alpha = 0.05\n",
    "\n",
    "# Calculate the t-score\n",
    "t_score = (sample_mean - population_mean) / (sample_std / np.sqrt(sample_size))\n",
    "\n",
    "# Calculate the p-value for a two-tailed test\n",
    "p_value = stats.t.cdf(t_value, df = 49) * 2\n",
    "\n",
    "# Print the results\n",
    "print(\"t-score:\", t_score)\n",
    "print(\"p-value:\", p_value)\n",
    "\n",
    "if p_value < alpha:\n",
    "    print(\"Reject the null hypothesis. There is sufficient evidence to conclude that the average lifespan is not 10,000 hours.\")\n",
    "else:\n",
    "    print(\"Fail to reject the null hypothesis. There is not enough evidence to conclude that the average lifespan is different from 10,000 hours.\")"
   ]
  },
  {
   "cell_type": "markdown",
   "metadata": {},
   "source": [
    "2. A pharmaceutical company claims that a new drug reduces cholesterol levels by an average of 20 points. A researcher tests this claim by administering the drug to a random sample of 30 patients and measuring their cholesterol levels before and after treatment.\n",
    "\n",
    "\n",
    "Null Hypothesis (H₀): The average reduction in cholesterol levels is 20 points. (μ = 20)\n",
    "\n",
    "\n",
    "Alternative Hypothesis (H₁): The average reduction in cholesterol levels is not 20 points. (μ ≠ 20)"
   ]
  },
  {
   "cell_type": "code",
   "execution_count": 41,
   "metadata": {},
   "outputs": [
    {
     "name": "stdout",
     "output_type": "stream",
     "text": [
      "t-statistic: 1.4456963483812553\n",
      "p-value: 0.15898354858946173\n",
      "Fail to reject the null hypothesis. There is not enough evidence to conclude that the average reduction is different from 20 points.\n"
     ]
    }
   ],
   "source": [
    "import numpy as np\n",
    "from scipy import stats\n",
    "\n",
    "cholesterol_reductions = np.array([22, 18, 25, 19, 21, 23, 17, 20, 24, 16, \n",
    "                                    22, 19, 20, 21, 23, 18, 25, 20, 19, 22, \n",
    "                                    21, 17, 24, 23, 20, 18, 22, 19, 21, 20])\n",
    "\n",
    "# ... (data collection as shown above)\n",
    "\n",
    "sample_mean = np.mean(cholesterol_reductions)\n",
    "sample_std = np.std(cholesterol_reductions, ddof=1)\n",
    "t_statistic = (sample_mean - 20) / (sample_std / np.sqrt(30))\n",
    "p_value = 2 * stats.t.sf(t_statistic, df=29)\n",
    "\n",
    "print(\"t-statistic:\", t_statistic)\n",
    "print(\"p-value:\", p_value)\n",
    "\n",
    "if p_value < 0.05:\n",
    "    print(\"Reject the null hypothesis. The average reduction is not 20 points.\")\n",
    "else:\n",
    "    print(\"Fail to reject the null hypothesis. There is not enough evidence to conclude that the average reduction is different from 20 points.\")"
   ]
  },
  {
   "cell_type": "markdown",
   "metadata": {},
   "source": [
    "3. A school district claims that the average SAT score of its students is 1050. A random sample of 50 students is selected, and their average SAT score is found to be 1020 with a standard deviation of 100.\n",
    "\n",
    "Null Hypothesis (H₀): The average SAT score is 1050. (μ = 1050)\n",
    "Alternative Hypothesis (H₁): The average SAT score is not 1050. (μ ≠ 1050)"
   ]
  },
  {
   "cell_type": "code",
   "execution_count": 52,
   "metadata": {},
   "outputs": [
    {
     "name": "stdout",
     "output_type": "stream",
     "text": [
      "-2.121320343559643\n",
      "0.03897805524434936\n",
      "Reject null hypothesis. The average SAT score is not 1050\n"
     ]
    }
   ],
   "source": [
    "meu = 1050\n",
    "xbar = 1020\n",
    "std = 100\n",
    "n = 50\n",
    "\n",
    "t = (xbar - meu)/(std / np.sqrt(n))\n",
    "print(t)\n",
    "\n",
    "p_value = stats.t.sf(np.abs(t_statistic), df = n-1) * 2\n",
    "print(p_value)\n",
    "\n",
    "if p_value < 0.05 :\n",
    "    print(\"Reject null hypothesis. The average SAT score is not 1050\")\n",
    "else:\n",
    "    print(\"Fail to reject null hypothesis. The average SAT score is 1050\")"
   ]
  },
  {
   "cell_type": "code",
   "execution_count": 51,
   "metadata": {},
   "outputs": [
    {
     "name": "stdout",
     "output_type": "stream",
     "text": [
      "t-statistic: -2.121320343559643\n",
      "p-value: 0.03897805524434936\n",
      "Reject the null hypothesis. The average SAT score is not 1050.\n"
     ]
    }
   ],
   "source": [
    "import numpy as np\n",
    "from scipy import stats\n",
    "\n",
    "# Given data\n",
    "sample_mean = 1020\n",
    "population_mean = 1050\n",
    "sample_std = 100\n",
    "sample_size = 50\n",
    "\n",
    "# Calculate the t-statistic\n",
    "t_statistic = (sample_mean - population_mean) / (sample_std / np.sqrt(sample_size))\n",
    "\n",
    "# Calculate the p-value for a two-tailed test\n",
    "p_value = 2 * stats.t.sf(np.abs(t_statistic), df=sample_size-1)\n",
    "\n",
    "# Print the results\n",
    "print(\"t-statistic:\", t_statistic)\n",
    "print(\"p-value:\", p_value)\n",
    "\n",
    "alpha = 0.05\n",
    "\n",
    "if p_value < alpha:\n",
    "    print(\"Reject the null hypothesis. The average SAT score is not 1050.\")\n",
    "else:\n",
    "    print(\"Fail to reject the null hypothesis. There is not enough evidence to conclude that the average SAT score is different from 1050.\")"
   ]
  },
  {
   "cell_type": "code",
   "execution_count": 59,
   "metadata": {},
   "outputs": [
    {
     "name": "stdout",
     "output_type": "stream",
     "text": [
      "2.592030868990475\n"
     ]
    }
   ],
   "source": [
    "# calculate t stats\n",
    "\n",
    "n = 40\n",
    "xbar = 58.5\n",
    "s = 1.22\n",
    "meu  = 58\n",
    "\n",
    "t_value = (xbar - meu) / (s/np.sqrt(n))\n",
    "print(t_value)"
   ]
  },
  {
   "cell_type": "code",
   "execution_count": 63,
   "metadata": {},
   "outputs": [
    {
     "name": "stdout",
     "output_type": "stream",
     "text": [
      "2.122066453161376\n"
     ]
    }
   ],
   "source": [
    "def t_value(n, xbar, s, meu):\n",
    "    t_value = (xbar - meu) / (s/np.sqrt(n))\n",
    "    print(np.abs(t_value))\n",
    "\n",
    "t_value(30,-23.2, 9.55, -19.5 )\n",
    "\n"
   ]
  },
  {
   "cell_type": "code",
   "execution_count": 70,
   "metadata": {},
   "outputs": [
    {
     "name": "stdout",
     "output_type": "stream",
     "text": [
      "-2.1818181818182127 0.017962772618565256\n",
      "reject null\n"
     ]
    }
   ],
   "source": [
    "def p_value(meu, alpha, n, xbar, s):\n",
    "    t_value = (xbar - meu) / (s/np.sqrt(n))\n",
    "    p_value = stats.t.sf(np.abs(t_value), n-1)\n",
    "\n",
    "    print(t_value, p_value)\n",
    "    if p_value > alpha:\n",
    "        print(\"do not rejecct null\")\n",
    "    else :\n",
    "        print(\"reject null\")\n",
    "\n",
    "p_value(212, 0.10, 36, 211.2, 2.2)"
   ]
  },
  {
   "cell_type": "code",
   "execution_count": 69,
   "metadata": {},
   "outputs": [
    {
     "name": "stdout",
     "output_type": "stream",
     "text": [
      "1.6080605044147407 0.057570376621769066\n",
      "accept null\n"
     ]
    }
   ],
   "source": [
    "p_value(-18, 0.05, 44, -17.2, 3.3)"
   ]
  },
  {
   "cell_type": "markdown",
   "metadata": {},
   "source": [
    "Q. In the past the average length of an outgoing telephone call from a business office has been  143\n",
    "  seconds. A manager wishes to check whether that average has decreased after the introduction of policy changes. A sample of  100\n",
    "  telephone calls produced a mean of  133\n",
    "  seconds, with a standard deviation of  35\n",
    "  seconds. Perform the relevant test at the  1%\n",
    "  level of significance.\n",
    "  "
   ]
  },
  {
   "cell_type": "code",
   "execution_count": 74,
   "metadata": {},
   "outputs": [
    {
     "name": "stdout",
     "output_type": "stream",
     "text": [
      "-2.857142857142857\n",
      "0.0026052690022057606\n",
      "reject null\n"
     ]
    }
   ],
   "source": [
    "# one tailed test\n",
    "\n",
    "meu = 143\n",
    "xbar = 133\n",
    "s = 35\n",
    "n = 100\n",
    "alpha = 0.01\n",
    "\n",
    "t_value = (xbar- meu)/(s/ np.sqrt(n))\n",
    "print(t_value)\n",
    "\n",
    "p_value  = stats.t.sf(np.abs(t_value), df=n-1)\n",
    "print(p_value)\n",
    "\n",
    "if p_value > alpha:\n",
    "    print(\"Do not reject null\")\n",
    "else: \n",
    "    print(\"reject null\")"
   ]
  }
 ],
 "metadata": {
  "kernelspec": {
   "display_name": "Python 3",
   "language": "python",
   "name": "python3"
  },
  "language_info": {
   "codemirror_mode": {
    "name": "ipython",
    "version": 3
   },
   "file_extension": ".py",
   "mimetype": "text/x-python",
   "name": "python",
   "nbconvert_exporter": "python",
   "pygments_lexer": "ipython3",
   "version": "3.11.0"
  }
 },
 "nbformat": 4,
 "nbformat_minor": 2
}
