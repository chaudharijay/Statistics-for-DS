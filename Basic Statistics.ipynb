{
 "cells": [
  {
   "cell_type": "markdown",
   "metadata": {},
   "source": [
    "1.1 Basic Questions and Concepts"
   ]
  },
  {
   "cell_type": "markdown",
   "metadata": {},
   "source": [
    "### 1. Explain what is meant by the term population.\n",
    "\n",
    "- A population is any specific collection of objects of interest.\n",
    "\n",
    "### 2. Explain what is meant by the term sample.\n",
    "\n",
    "- A sample is any subset or subcollection of the population.\n",
    "\n",
    "\n",
    "### 3. Explain how a sample differs from a population.\n",
    "\n",
    "- A sample can also contain all elements from population.\n",
    "\n",
    "\n",
    "### 4. Explain what is meant by the term sample data.\n",
    "\n",
    "- The measurement of sample elements are collectively called Sample Data.\n",
    "\n",
    "\n",
    "### 5. Explain what a parameter is.\n",
    "\n",
    "- A parameter is a number that summarizes some aspect of the population as a whole.\n",
    "\n",
    "\n",
    "### 6. Explain what a statistic is.\n",
    "\n",
    "- A statistic is a number computed from the sample data.\n",
    "\n",
    "\n",
    "### 7. Give an example of a population and two different characteristics that may be of interest.\n",
    "\n",
    "- All the people from a specific city that vote. \n",
    "- The two different characteristics would be gender Male and Female.\n",
    "\n",
    "### 8. Describe the difference between descriptive statistics and inferential statistics. Illustrate with an example\n",
    "\n",
    "- Descritpive stats = is a branch of stats that involves organizing, displaying, and describing data.\n",
    "- Inferential stats = involves drawing conclusions about a population based on information contained in a sample data taken from that population."
   ]
  },
  {
   "cell_type": "markdown",
   "metadata": {},
   "source": [
    "### 9. Identify each of the following data sets as either a population or a sample:\n",
    "\n",
    "a. The grade point averages (GPAs) of all students at a college. \n",
    "\n",
    "(Population)\n",
    "\n",
    "b. The GPAs of a randomly selected group of students on a college campus. \n",
    "\n",
    "(Sample)\n",
    "\n",
    "c. The ages of the nine Supreme Court Justices of the United States on . \n",
    "\n",
    "(Population)\n",
    "\n",
    "d. The gender of every second customer who enters a movie theater. \n",
    "\n",
    "(Sample)\n",
    "\n",
    "e. The lengths of Atlantic croakers caught on a fishing trip to the beach. \n",
    "\n",
    "(SAmple)"
   ]
  },
  {
   "cell_type": "markdown",
   "metadata": {},
   "source": [
    "### 10. Identify the following measures as either quantitative or qualitative:\n",
    " a. The 30 high-temperature readings of the last  days. \n",
    " \n",
    " (Quantitative)\n",
    "\n",
    " b. The scores of 40  students on an English test.\n",
    " \n",
    " (Quantitative)\n",
    " \n",
    " c. The blood types of 120 teachers in a middle school.\n",
    " \n",
    " (Qualitative)\n",
    " \n",
    " d. The last four digits of social security numbers of all students in a class. \n",
    " \n",
    " (Qualitative)\n",
    " \n",
    " e. The numbers on the jerseys of 53 football players on a team. \n",
    " \n",
    " (Qualitative)"
   ]
  },
  {
   "cell_type": "markdown",
   "metadata": {},
   "source": [
    "### 11. Identify the following measures as either quantitative or qualitative:\n",
    "\n",
    " a. The genders of the first 40 newborns in a hospital one year.\n",
    "\n",
    " (Qualitative)\n",
    "\n",
    " b. The natural hair color of 20 randomly selected fashion models.\n",
    "\n",
    " (Qualitative)\n",
    "\n",
    "\n",
    " c. The ages of 20  randomly selected fashion models.\n",
    " \n",
    " (Quantitative)\n",
    "\n",
    "\n",
    " d. The fuel economy in miles per gallon of 20  new cars purchased last month.\n",
    " \n",
    " (Quantitative)\n",
    " \n",
    " \n",
    " e. The political affiliation of 500  randomly selected voters\n",
    "\n",
    " (Qualitative)"
   ]
  },
  {
   "cell_type": "markdown",
   "metadata": {},
   "source": [
    " ### 12. A researcher wishes to estimate the average amount spent per person by visitors to a theme park. He takes a random sample of forty visitors and obtains an average of 28$ per person.\n",
    " \n",
    " a. What is the population of interest?\n",
    "  - All Visitors at a theme park.\n",
    "\n",
    " b. What is the parameter of interest?\n",
    "\n",
    " - Average amount spent per person by all visitors to the theme park.\n",
    " \n",
    " c. Based on this sample, do we know the average amount spent per person by visitors to the park? Explain fully\n",
    "\n",
    " - 28$ based on this sample. But since we know that a sample mean is a random variable so we cannot rely on this result."
   ]
  },
  {
   "cell_type": "markdown",
   "metadata": {},
   "source": [
    "### 13. A researcher wishes to estimate the average weight of newborns in South America in the last five years. He takes a random sample of  newborns and obtains an average of3.27kilograms.\n",
    "\n",
    " a. What is the population of interest?\n",
    " \n",
    " - newborns in south america in the last five years. \n",
    " \n",
    " b. What is the parameter of interest?\n",
    "\n",
    " - Average weight of these newborns.\n",
    "\n",
    "\n",
    " c. Based on this sample, do we know the average weight of newborns in South America? Explain fully\n",
    "\n",
    " - By this sample it is 3.27 kg but since sample mean is a random variable we cannot rely on this."
   ]
  },
  {
   "cell_type": "markdown",
   "metadata": {},
   "source": [
    "### 14. A researcher wishes to estimate the proportion of all adults who own a cell phone. He takes a random sample of 1527 adults; 1298 of them own a cell phone, hence 1298 / 1527 ~ .83 or about 83% own a cell phone.\n",
    "\n",
    " a. What is the population of interest?\n",
    "\n",
    "-  Proportion of all adults.\n",
    "\n",
    " b. What is the parameter of interest?\n",
    "\n",
    "- ADults who use cellphone.\n",
    "\n",
    " c. What is the statistic involved?\n",
    "\n",
    " - The proportion of cell phone owners in the sample (1298/1527 = 0.85 or 85%).\n",
    "\n",
    " d. Based on this sample, do we know the proportion of all adults who own a cell phone? Explain fully\n",
    "\n",
    " - No we do not. We have estimated this using a sample. And since sample mean is a random variable we cannot conclude this."
   ]
  },
  {
   "cell_type": "markdown",
   "metadata": {},
   "source": [
    "### 15. A sociologist wishes to estimate the proportion of all adults in a certain region who have never married. In a random sample of 1320 adults,145 have never married, hence 145∕1320 ≈.11 or about  11%  have never married.\n",
    "\n",
    " a. What is the population of interest?\n",
    "\n",
    " - All adults \n",
    "\n",
    " b. What is the parameter of interest?\n",
    "\n",
    " - Adults who never married.\n",
    "\n",
    " c. What is the statistic involved?\n",
    "\n",
    " - The proportion of not married adults (145 / 1320 = .11 or 11%).\n",
    "\n",
    "\n",
    " d. Based on this sample, do we know the proportion of all adults who have never married? Explain fully.\n",
    "\n",
    " - Nope."
   ]
  },
  {
   "cell_type": "markdown",
   "metadata": {},
   "source": [
    " 16. \n",
    " a. What must be true of a sample if it is to give a reliable estimate of the value of a particular population parameter?\n",
    "\n",
    " \n",
    " b. What must be true of a sample if it is to give certain knowledge of the value of a particular population parameter?"
   ]
  }
 ],
 "metadata": {
  "kernelspec": {
   "display_name": "Python 3",
   "language": "python",
   "name": "python3"
  },
  "language_info": {
   "name": "python",
   "version": "3.11.0"
  }
 },
 "nbformat": 4,
 "nbformat_minor": 2
}
